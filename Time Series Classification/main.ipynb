{
 "cells": [
  {
   "cell_type": "code",
   "execution_count": 2,
   "metadata": {},
   "outputs": [],
   "source": [
    "# import os\n",
    "# import pandas as pd\n",
    "\n",
    "# ##.dat 파일이 있는 디렉토리 지정\n",
    "# dir_dat = '/Users/haseung-won/Desktop/학교/연구실/time_series_data/PAMAP2_Dataset/Optional/'\n",
    "# dir_csv = '/Users/haseung-won/Desktop/학교/연구실/time_series_data/PAMAP2_Dataset/Optional_csv/'\n",
    "# ##디렉토리 내의 모든 파일을 순회\n",
    "# for filename in os.listdir(dir_dat):\n",
    "#     ## .dat 파일인 경우만 처리\n",
    "#     if filename.endswith('.dat'):\n",
    "#         ## .dat 파일 읽기 (구분자가 공백인 경우)\n",
    "#         data = pd.read_csv(os.path.join(dir_dat, filename), sep=\"\\s+\", header=None)\n",
    "\n",
    "#         ## 새로운 .csv 파일 이름 생성 (.dat를 .csv로 변경)\n",
    "#         new_filename = os.path.splitext(filename)[0] + '.csv'\n",
    "\n",
    "#         ## .csv 파일로 저장\n",
    "#         data.to_csv(os.path.join(dir_csv, new_filename), index=False, header=False) \n"
   ]
  },
  {
   "cell_type": "code",
   "execution_count": 1,
   "metadata": {},
   "outputs": [
    {
     "name": "stdout",
     "output_type": "stream",
     "text": [
      "['timestamp', 'activityID', 'heart_rate', 'IMU_hand_temperature', 'IMU_hand_acceleration16g_x', 'IMU_hand_acceleration16g_y', 'IMU_hand_acceleration16g_z', 'IMU_hand_acceleration6g_x', 'IMU_hand_acceleration6g_y', 'IMU_hand_acceleration6g_z', 'IMU_hand_gyroscope_x', 'IMU_hand_gyroscope_y', 'IMU_hand_gyroscope_z', 'IMU_hand_magnetometer_x', 'IMU_hand_magnetometer_y', 'IMU_hand_magnetometer_z', 'IMU_hand_orientation_1', 'IMU_hand_orientation_2', 'IMU_hand_orientation_3', 'IMU_hand_orientation_4', 'IMU_chest_temperature', 'IMU_chest_acceleration16g_x', 'IMU_chest_acceleration16g_y', 'IMU_chest_acceleration16g_z', 'IMU_chest_acceleration6g_x', 'IMU_chest_acceleration6g_y', 'IMU_chest_acceleration6g_z', 'IMU_chest_gyroscope_x', 'IMU_chest_gyroscope_y', 'IMU_chest_gyroscope_z', 'IMU_chest_magnetometer_x', 'IMU_chest_magnetometer_y', 'IMU_chest_magnetometer_z', 'IMU_chest_orientation_1', 'IMU_chest_orientation_2', 'IMU_chest_orientation_3', 'IMU_chest_orientation_4', 'IMU_ankle_temperature', 'IMU_ankle_acceleration16g_x', 'IMU_ankle_acceleration16g_y', 'IMU_ankle_acceleration16g_z', 'IMU_ankle_acceleration6g_x', 'IMU_ankle_acceleration6g_y', 'IMU_ankle_acceleration6g_z', 'IMU_ankle_gyroscope_x', 'IMU_ankle_gyroscope_y', 'IMU_ankle_gyroscope_z', 'IMU_ankle_magnetometer_x', 'IMU_ankle_magnetometer_y', 'IMU_ankle_magnetometer_z', 'IMU_ankle_orientation_1', 'IMU_ankle_orientation_2', 'IMU_ankle_orientation_3', 'IMU_ankle_orientation_4']\n",
      "54\n",
      "['timestamp', 'activityID', 'heart_rate', 'IMU_hand_temperature', 'IMU_hand_acceleration16g_x', 'IMU_hand_acceleration16g_y', 'IMU_hand_acceleration16g_z', 'IMU_hand_acceleration6g_x', 'IMU_hand_acceleration6g_y', 'IMU_hand_acceleration6g_z', 'IMU_hand_gyroscope_x', 'IMU_hand_gyroscope_y', 'IMU_hand_gyroscope_z', 'IMU_hand_magnetometer_x', 'IMU_hand_magnetometer_y', 'IMU_hand_magnetometer_z', 'IMU_hand_orientation_1', 'IMU_hand_orientation_2', 'IMU_hand_orientation_3', 'IMU_hand_orientation_4', 'IMU_chest_temperature', 'IMU_chest_acceleration16g_x', 'IMU_chest_acceleration16g_y', 'IMU_chest_acceleration16g_z', 'IMU_chest_acceleration6g_x', 'IMU_chest_acceleration6g_y', 'IMU_chest_acceleration6g_z', 'IMU_chest_gyroscope_x', 'IMU_chest_gyroscope_y', 'IMU_chest_gyroscope_z', 'IMU_chest_magnetometer_x', 'IMU_chest_magnetometer_y', 'IMU_chest_magnetometer_z', 'IMU_chest_orientation_1', 'IMU_chest_orientation_2', 'IMU_chest_orientation_3', 'IMU_chest_orientation_4', 'IMU_ankle_temperature', 'IMU_ankle_acceleration16g_x', 'IMU_ankle_acceleration16g_y', 'IMU_ankle_acceleration16g_z', 'IMU_ankle_acceleration6g_x', 'IMU_ankle_acceleration6g_y', 'IMU_ankle_acceleration6g_z', 'IMU_ankle_gyroscope_x', 'IMU_ankle_gyroscope_y', 'IMU_ankle_gyroscope_z', 'IMU_ankle_magnetometer_x', 'IMU_ankle_magnetometer_y', 'IMU_ankle_magnetometer_z', 'IMU_ankle_orientation_1', 'IMU_ankle_orientation_2', 'IMU_ankle_orientation_3', 'IMU_ankle_orientation_4']\n",
      "54\n",
      "['timestamp', 'activityID', 'heart_rate', 'IMU_hand_temperature', 'IMU_hand_acceleration16g_x', 'IMU_hand_acceleration16g_y', 'IMU_hand_acceleration16g_z', 'IMU_hand_acceleration6g_x', 'IMU_hand_acceleration6g_y', 'IMU_hand_acceleration6g_z', 'IMU_hand_gyroscope_x', 'IMU_hand_gyroscope_y', 'IMU_hand_gyroscope_z', 'IMU_hand_magnetometer_x', 'IMU_hand_magnetometer_y', 'IMU_hand_magnetometer_z', 'IMU_hand_orientation_1', 'IMU_hand_orientation_2', 'IMU_hand_orientation_3', 'IMU_hand_orientation_4', 'IMU_chest_temperature', 'IMU_chest_acceleration16g_x', 'IMU_chest_acceleration16g_y', 'IMU_chest_acceleration16g_z', 'IMU_chest_acceleration6g_x', 'IMU_chest_acceleration6g_y', 'IMU_chest_acceleration6g_z', 'IMU_chest_gyroscope_x', 'IMU_chest_gyroscope_y', 'IMU_chest_gyroscope_z', 'IMU_chest_magnetometer_x', 'IMU_chest_magnetometer_y', 'IMU_chest_magnetometer_z', 'IMU_chest_orientation_1', 'IMU_chest_orientation_2', 'IMU_chest_orientation_3', 'IMU_chest_orientation_4', 'IMU_ankle_temperature', 'IMU_ankle_acceleration16g_x', 'IMU_ankle_acceleration16g_y', 'IMU_ankle_acceleration16g_z', 'IMU_ankle_acceleration6g_x', 'IMU_ankle_acceleration6g_y', 'IMU_ankle_acceleration6g_z', 'IMU_ankle_gyroscope_x', 'IMU_ankle_gyroscope_y', 'IMU_ankle_gyroscope_z', 'IMU_ankle_magnetometer_x', 'IMU_ankle_magnetometer_y', 'IMU_ankle_magnetometer_z', 'IMU_ankle_orientation_1', 'IMU_ankle_orientation_2', 'IMU_ankle_orientation_3', 'IMU_ankle_orientation_4']\n",
      "54\n",
      "['timestamp', 'activityID', 'heart_rate', 'IMU_hand_temperature', 'IMU_hand_acceleration16g_x', 'IMU_hand_acceleration16g_y', 'IMU_hand_acceleration16g_z', 'IMU_hand_acceleration6g_x', 'IMU_hand_acceleration6g_y', 'IMU_hand_acceleration6g_z', 'IMU_hand_gyroscope_x', 'IMU_hand_gyroscope_y', 'IMU_hand_gyroscope_z', 'IMU_hand_magnetometer_x', 'IMU_hand_magnetometer_y', 'IMU_hand_magnetometer_z', 'IMU_hand_orientation_1', 'IMU_hand_orientation_2', 'IMU_hand_orientation_3', 'IMU_hand_orientation_4', 'IMU_chest_temperature', 'IMU_chest_acceleration16g_x', 'IMU_chest_acceleration16g_y', 'IMU_chest_acceleration16g_z', 'IMU_chest_acceleration6g_x', 'IMU_chest_acceleration6g_y', 'IMU_chest_acceleration6g_z', 'IMU_chest_gyroscope_x', 'IMU_chest_gyroscope_y', 'IMU_chest_gyroscope_z', 'IMU_chest_magnetometer_x', 'IMU_chest_magnetometer_y', 'IMU_chest_magnetometer_z', 'IMU_chest_orientation_1', 'IMU_chest_orientation_2', 'IMU_chest_orientation_3', 'IMU_chest_orientation_4', 'IMU_ankle_temperature', 'IMU_ankle_acceleration16g_x', 'IMU_ankle_acceleration16g_y', 'IMU_ankle_acceleration16g_z', 'IMU_ankle_acceleration6g_x', 'IMU_ankle_acceleration6g_y', 'IMU_ankle_acceleration6g_z', 'IMU_ankle_gyroscope_x', 'IMU_ankle_gyroscope_y', 'IMU_ankle_gyroscope_z', 'IMU_ankle_magnetometer_x', 'IMU_ankle_magnetometer_y', 'IMU_ankle_magnetometer_z', 'IMU_ankle_orientation_1', 'IMU_ankle_orientation_2', 'IMU_ankle_orientation_3', 'IMU_ankle_orientation_4']\n",
      "54\n",
      "['timestamp', 'activityID', 'heart_rate', 'IMU_hand_temperature', 'IMU_hand_acceleration16g_x', 'IMU_hand_acceleration16g_y', 'IMU_hand_acceleration16g_z', 'IMU_hand_acceleration6g_x', 'IMU_hand_acceleration6g_y', 'IMU_hand_acceleration6g_z', 'IMU_hand_gyroscope_x', 'IMU_hand_gyroscope_y', 'IMU_hand_gyroscope_z', 'IMU_hand_magnetometer_x', 'IMU_hand_magnetometer_y', 'IMU_hand_magnetometer_z', 'IMU_hand_orientation_1', 'IMU_hand_orientation_2', 'IMU_hand_orientation_3', 'IMU_hand_orientation_4', 'IMU_chest_temperature', 'IMU_chest_acceleration16g_x', 'IMU_chest_acceleration16g_y', 'IMU_chest_acceleration16g_z', 'IMU_chest_acceleration6g_x', 'IMU_chest_acceleration6g_y', 'IMU_chest_acceleration6g_z', 'IMU_chest_gyroscope_x', 'IMU_chest_gyroscope_y', 'IMU_chest_gyroscope_z', 'IMU_chest_magnetometer_x', 'IMU_chest_magnetometer_y', 'IMU_chest_magnetometer_z', 'IMU_chest_orientation_1', 'IMU_chest_orientation_2', 'IMU_chest_orientation_3', 'IMU_chest_orientation_4', 'IMU_ankle_temperature', 'IMU_ankle_acceleration16g_x', 'IMU_ankle_acceleration16g_y', 'IMU_ankle_acceleration16g_z', 'IMU_ankle_acceleration6g_x', 'IMU_ankle_acceleration6g_y', 'IMU_ankle_acceleration6g_z', 'IMU_ankle_gyroscope_x', 'IMU_ankle_gyroscope_y', 'IMU_ankle_gyroscope_z', 'IMU_ankle_magnetometer_x', 'IMU_ankle_magnetometer_y', 'IMU_ankle_magnetometer_z', 'IMU_ankle_orientation_1', 'IMU_ankle_orientation_2', 'IMU_ankle_orientation_3', 'IMU_ankle_orientation_4']\n",
      "54\n",
      "['timestamp', 'activityID', 'heart_rate', 'IMU_hand_temperature', 'IMU_hand_acceleration16g_x', 'IMU_hand_acceleration16g_y', 'IMU_hand_acceleration16g_z', 'IMU_hand_acceleration6g_x', 'IMU_hand_acceleration6g_y', 'IMU_hand_acceleration6g_z', 'IMU_hand_gyroscope_x', 'IMU_hand_gyroscope_y', 'IMU_hand_gyroscope_z', 'IMU_hand_magnetometer_x', 'IMU_hand_magnetometer_y', 'IMU_hand_magnetometer_z', 'IMU_hand_orientation_1', 'IMU_hand_orientation_2', 'IMU_hand_orientation_3', 'IMU_hand_orientation_4', 'IMU_chest_temperature', 'IMU_chest_acceleration16g_x', 'IMU_chest_acceleration16g_y', 'IMU_chest_acceleration16g_z', 'IMU_chest_acceleration6g_x', 'IMU_chest_acceleration6g_y', 'IMU_chest_acceleration6g_z', 'IMU_chest_gyroscope_x', 'IMU_chest_gyroscope_y', 'IMU_chest_gyroscope_z', 'IMU_chest_magnetometer_x', 'IMU_chest_magnetometer_y', 'IMU_chest_magnetometer_z', 'IMU_chest_orientation_1', 'IMU_chest_orientation_2', 'IMU_chest_orientation_3', 'IMU_chest_orientation_4', 'IMU_ankle_temperature', 'IMU_ankle_acceleration16g_x', 'IMU_ankle_acceleration16g_y', 'IMU_ankle_acceleration16g_z', 'IMU_ankle_acceleration6g_x', 'IMU_ankle_acceleration6g_y', 'IMU_ankle_acceleration6g_z', 'IMU_ankle_gyroscope_x', 'IMU_ankle_gyroscope_y', 'IMU_ankle_gyroscope_z', 'IMU_ankle_magnetometer_x', 'IMU_ankle_magnetometer_y', 'IMU_ankle_magnetometer_z', 'IMU_ankle_orientation_1', 'IMU_ankle_orientation_2', 'IMU_ankle_orientation_3', 'IMU_ankle_orientation_4']\n",
      "54\n",
      "['timestamp', 'activityID', 'heart_rate', 'IMU_hand_temperature', 'IMU_hand_acceleration16g_x', 'IMU_hand_acceleration16g_y', 'IMU_hand_acceleration16g_z', 'IMU_hand_acceleration6g_x', 'IMU_hand_acceleration6g_y', 'IMU_hand_acceleration6g_z', 'IMU_hand_gyroscope_x', 'IMU_hand_gyroscope_y', 'IMU_hand_gyroscope_z', 'IMU_hand_magnetometer_x', 'IMU_hand_magnetometer_y', 'IMU_hand_magnetometer_z', 'IMU_hand_orientation_1', 'IMU_hand_orientation_2', 'IMU_hand_orientation_3', 'IMU_hand_orientation_4', 'IMU_chest_temperature', 'IMU_chest_acceleration16g_x', 'IMU_chest_acceleration16g_y', 'IMU_chest_acceleration16g_z', 'IMU_chest_acceleration6g_x', 'IMU_chest_acceleration6g_y', 'IMU_chest_acceleration6g_z', 'IMU_chest_gyroscope_x', 'IMU_chest_gyroscope_y', 'IMU_chest_gyroscope_z', 'IMU_chest_magnetometer_x', 'IMU_chest_magnetometer_y', 'IMU_chest_magnetometer_z', 'IMU_chest_orientation_1', 'IMU_chest_orientation_2', 'IMU_chest_orientation_3', 'IMU_chest_orientation_4', 'IMU_ankle_temperature', 'IMU_ankle_acceleration16g_x', 'IMU_ankle_acceleration16g_y', 'IMU_ankle_acceleration16g_z', 'IMU_ankle_acceleration6g_x', 'IMU_ankle_acceleration6g_y', 'IMU_ankle_acceleration6g_z', 'IMU_ankle_gyroscope_x', 'IMU_ankle_gyroscope_y', 'IMU_ankle_gyroscope_z', 'IMU_ankle_magnetometer_x', 'IMU_ankle_magnetometer_y', 'IMU_ankle_magnetometer_z', 'IMU_ankle_orientation_1', 'IMU_ankle_orientation_2', 'IMU_ankle_orientation_3', 'IMU_ankle_orientation_4']\n",
      "54\n",
      "['timestamp', 'activityID', 'heart_rate', 'IMU_hand_temperature', 'IMU_hand_acceleration16g_x', 'IMU_hand_acceleration16g_y', 'IMU_hand_acceleration16g_z', 'IMU_hand_acceleration6g_x', 'IMU_hand_acceleration6g_y', 'IMU_hand_acceleration6g_z', 'IMU_hand_gyroscope_x', 'IMU_hand_gyroscope_y', 'IMU_hand_gyroscope_z', 'IMU_hand_magnetometer_x', 'IMU_hand_magnetometer_y', 'IMU_hand_magnetometer_z', 'IMU_hand_orientation_1', 'IMU_hand_orientation_2', 'IMU_hand_orientation_3', 'IMU_hand_orientation_4', 'IMU_chest_temperature', 'IMU_chest_acceleration16g_x', 'IMU_chest_acceleration16g_y', 'IMU_chest_acceleration16g_z', 'IMU_chest_acceleration6g_x', 'IMU_chest_acceleration6g_y', 'IMU_chest_acceleration6g_z', 'IMU_chest_gyroscope_x', 'IMU_chest_gyroscope_y', 'IMU_chest_gyroscope_z', 'IMU_chest_magnetometer_x', 'IMU_chest_magnetometer_y', 'IMU_chest_magnetometer_z', 'IMU_chest_orientation_1', 'IMU_chest_orientation_2', 'IMU_chest_orientation_3', 'IMU_chest_orientation_4', 'IMU_ankle_temperature', 'IMU_ankle_acceleration16g_x', 'IMU_ankle_acceleration16g_y', 'IMU_ankle_acceleration16g_z', 'IMU_ankle_acceleration6g_x', 'IMU_ankle_acceleration6g_y', 'IMU_ankle_acceleration6g_z', 'IMU_ankle_gyroscope_x', 'IMU_ankle_gyroscope_y', 'IMU_ankle_gyroscope_z', 'IMU_ankle_magnetometer_x', 'IMU_ankle_magnetometer_y', 'IMU_ankle_magnetometer_z', 'IMU_ankle_orientation_1', 'IMU_ankle_orientation_2', 'IMU_ankle_orientation_3', 'IMU_ankle_orientation_4']\n",
      "54\n",
      "['timestamp', 'activityID', 'heart_rate', 'IMU_hand_temperature', 'IMU_hand_acceleration16g_x', 'IMU_hand_acceleration16g_y', 'IMU_hand_acceleration16g_z', 'IMU_hand_acceleration6g_x', 'IMU_hand_acceleration6g_y', 'IMU_hand_acceleration6g_z', 'IMU_hand_gyroscope_x', 'IMU_hand_gyroscope_y', 'IMU_hand_gyroscope_z', 'IMU_hand_magnetometer_x', 'IMU_hand_magnetometer_y', 'IMU_hand_magnetometer_z', 'IMU_hand_orientation_1', 'IMU_hand_orientation_2', 'IMU_hand_orientation_3', 'IMU_hand_orientation_4', 'IMU_chest_temperature', 'IMU_chest_acceleration16g_x', 'IMU_chest_acceleration16g_y', 'IMU_chest_acceleration16g_z', 'IMU_chest_acceleration6g_x', 'IMU_chest_acceleration6g_y', 'IMU_chest_acceleration6g_z', 'IMU_chest_gyroscope_x', 'IMU_chest_gyroscope_y', 'IMU_chest_gyroscope_z', 'IMU_chest_magnetometer_x', 'IMU_chest_magnetometer_y', 'IMU_chest_magnetometer_z', 'IMU_chest_orientation_1', 'IMU_chest_orientation_2', 'IMU_chest_orientation_3', 'IMU_chest_orientation_4', 'IMU_ankle_temperature', 'IMU_ankle_acceleration16g_x', 'IMU_ankle_acceleration16g_y', 'IMU_ankle_acceleration16g_z', 'IMU_ankle_acceleration6g_x', 'IMU_ankle_acceleration6g_y', 'IMU_ankle_acceleration6g_z', 'IMU_ankle_gyroscope_x', 'IMU_ankle_gyroscope_y', 'IMU_ankle_gyroscope_z', 'IMU_ankle_magnetometer_x', 'IMU_ankle_magnetometer_y', 'IMU_ankle_magnetometer_z', 'IMU_ankle_orientation_1', 'IMU_ankle_orientation_2', 'IMU_ankle_orientation_3', 'IMU_ankle_orientation_4']\n",
      "54\n"
     ]
    }
   ],
   "source": [
    "import pandas as pd\n",
    "df_list=[]\n",
    "for subject_id in range(1,10,1):\n",
    "\n",
    "    dir_csv = f'/Users/haseung-won/Desktop/학교/연구실/time_series_data/PAMAP2_Dataset/Protocol_csv/subject10{str(subject_id)}.csv'\n",
    "\n",
    "    # Define column names based on the provided structure\n",
    "    column_names = [\n",
    "        'timestamp',\n",
    "        'activityID',\n",
    "        'heart_rate',\n",
    "    ]\n",
    "\n",
    "    imu_sensors = [\n",
    "        'temperature',\n",
    "        'acceleration16g_x', 'acceleration16g_y', 'acceleration16g_z',\n",
    "        'acceleration6g_x', 'acceleration6g_y', 'acceleration6g_z',\n",
    "        'gyroscope_x', 'gyroscope_y', 'gyroscope_z',\n",
    "        'magnetometer_x', 'magnetometer_y', 'magnetometer_z',\n",
    "        'orientation_1', 'orientation_2', 'orientation_3','orientation_4'\n",
    "    ]\n",
    "\n",
    "    imu_parts = ['hand', 'chest', 'ankle']\n",
    "\n",
    "    # Add column names for IMU hand, chest, and ankle data\n",
    "    for part in imu_parts:\n",
    "        for sensor in imu_sensors:\n",
    "            column_names.append(f'IMU_{part}_{sensor}')\n",
    "    print(column_names)\n",
    "    print(len(column_names))\n",
    "    # Read the CSV file using pandas\n",
    "    df = pd.read_csv(dir_csv, names=column_names)\n",
    "    df_list.append(df)\n",
    "\n",
    "    # Now df contains the data from the CSV file with appropriate column names\n"
   ]
  },
  {
   "cell_type": "code",
   "execution_count": 2,
   "metadata": {},
   "outputs": [
    {
     "name": "stdout",
     "output_type": "stream",
     "text": [
      "['timestamp', 'activityID', 'heart_rate', 'IMU_hand_temperature', 'IMU_hand_acceleration16g_x', 'IMU_hand_acceleration16g_y', 'IMU_hand_acceleration16g_z', 'IMU_hand_acceleration6g_x', 'IMU_hand_acceleration6g_y', 'IMU_hand_acceleration6g_z', 'IMU_hand_gyroscope_x', 'IMU_hand_gyroscope_y', 'IMU_hand_gyroscope_z', 'IMU_hand_magnetometer_x', 'IMU_hand_magnetometer_y', 'IMU_hand_magnetometer_z', 'IMU_hand_orientation_1', 'IMU_hand_orientation_2', 'IMU_hand_orientation_3', 'IMU_hand_orientation_4', 'IMU_chest_temperature', 'IMU_chest_acceleration16g_x', 'IMU_chest_acceleration16g_y', 'IMU_chest_acceleration16g_z', 'IMU_chest_acceleration6g_x', 'IMU_chest_acceleration6g_y', 'IMU_chest_acceleration6g_z', 'IMU_chest_gyroscope_x', 'IMU_chest_gyroscope_y', 'IMU_chest_gyroscope_z', 'IMU_chest_magnetometer_x', 'IMU_chest_magnetometer_y', 'IMU_chest_magnetometer_z', 'IMU_chest_orientation_1', 'IMU_chest_orientation_2', 'IMU_chest_orientation_3', 'IMU_chest_orientation_4', 'IMU_ankle_temperature', 'IMU_ankle_acceleration16g_x', 'IMU_ankle_acceleration16g_y', 'IMU_ankle_acceleration16g_z', 'IMU_ankle_acceleration6g_x', 'IMU_ankle_acceleration6g_y', 'IMU_ankle_acceleration6g_z', 'IMU_ankle_gyroscope_x', 'IMU_ankle_gyroscope_y', 'IMU_ankle_gyroscope_z', 'IMU_ankle_magnetometer_x', 'IMU_ankle_magnetometer_y', 'IMU_ankle_magnetometer_z', 'IMU_ankle_orientation_1', 'IMU_ankle_orientation_2', 'IMU_ankle_orientation_3', 'IMU_ankle_orientation_4']\n",
      "54\n",
      "['timestamp', 'activityID', 'heart_rate', 'IMU_hand_temperature', 'IMU_hand_acceleration16g_x', 'IMU_hand_acceleration16g_y', 'IMU_hand_acceleration16g_z', 'IMU_hand_acceleration6g_x', 'IMU_hand_acceleration6g_y', 'IMU_hand_acceleration6g_z', 'IMU_hand_gyroscope_x', 'IMU_hand_gyroscope_y', 'IMU_hand_gyroscope_z', 'IMU_hand_magnetometer_x', 'IMU_hand_magnetometer_y', 'IMU_hand_magnetometer_z', 'IMU_hand_orientation_1', 'IMU_hand_orientation_2', 'IMU_hand_orientation_3', 'IMU_hand_orientation_4', 'IMU_chest_temperature', 'IMU_chest_acceleration16g_x', 'IMU_chest_acceleration16g_y', 'IMU_chest_acceleration16g_z', 'IMU_chest_acceleration6g_x', 'IMU_chest_acceleration6g_y', 'IMU_chest_acceleration6g_z', 'IMU_chest_gyroscope_x', 'IMU_chest_gyroscope_y', 'IMU_chest_gyroscope_z', 'IMU_chest_magnetometer_x', 'IMU_chest_magnetometer_y', 'IMU_chest_magnetometer_z', 'IMU_chest_orientation_1', 'IMU_chest_orientation_2', 'IMU_chest_orientation_3', 'IMU_chest_orientation_4', 'IMU_ankle_temperature', 'IMU_ankle_acceleration16g_x', 'IMU_ankle_acceleration16g_y', 'IMU_ankle_acceleration16g_z', 'IMU_ankle_acceleration6g_x', 'IMU_ankle_acceleration6g_y', 'IMU_ankle_acceleration6g_z', 'IMU_ankle_gyroscope_x', 'IMU_ankle_gyroscope_y', 'IMU_ankle_gyroscope_z', 'IMU_ankle_magnetometer_x', 'IMU_ankle_magnetometer_y', 'IMU_ankle_magnetometer_z', 'IMU_ankle_orientation_1', 'IMU_ankle_orientation_2', 'IMU_ankle_orientation_3', 'IMU_ankle_orientation_4']\n",
      "54\n",
      "['timestamp', 'activityID', 'heart_rate', 'IMU_hand_temperature', 'IMU_hand_acceleration16g_x', 'IMU_hand_acceleration16g_y', 'IMU_hand_acceleration16g_z', 'IMU_hand_acceleration6g_x', 'IMU_hand_acceleration6g_y', 'IMU_hand_acceleration6g_z', 'IMU_hand_gyroscope_x', 'IMU_hand_gyroscope_y', 'IMU_hand_gyroscope_z', 'IMU_hand_magnetometer_x', 'IMU_hand_magnetometer_y', 'IMU_hand_magnetometer_z', 'IMU_hand_orientation_1', 'IMU_hand_orientation_2', 'IMU_hand_orientation_3', 'IMU_hand_orientation_4', 'IMU_chest_temperature', 'IMU_chest_acceleration16g_x', 'IMU_chest_acceleration16g_y', 'IMU_chest_acceleration16g_z', 'IMU_chest_acceleration6g_x', 'IMU_chest_acceleration6g_y', 'IMU_chest_acceleration6g_z', 'IMU_chest_gyroscope_x', 'IMU_chest_gyroscope_y', 'IMU_chest_gyroscope_z', 'IMU_chest_magnetometer_x', 'IMU_chest_magnetometer_y', 'IMU_chest_magnetometer_z', 'IMU_chest_orientation_1', 'IMU_chest_orientation_2', 'IMU_chest_orientation_3', 'IMU_chest_orientation_4', 'IMU_ankle_temperature', 'IMU_ankle_acceleration16g_x', 'IMU_ankle_acceleration16g_y', 'IMU_ankle_acceleration16g_z', 'IMU_ankle_acceleration6g_x', 'IMU_ankle_acceleration6g_y', 'IMU_ankle_acceleration6g_z', 'IMU_ankle_gyroscope_x', 'IMU_ankle_gyroscope_y', 'IMU_ankle_gyroscope_z', 'IMU_ankle_magnetometer_x', 'IMU_ankle_magnetometer_y', 'IMU_ankle_magnetometer_z', 'IMU_ankle_orientation_1', 'IMU_ankle_orientation_2', 'IMU_ankle_orientation_3', 'IMU_ankle_orientation_4']\n",
      "54\n",
      "['timestamp', 'activityID', 'heart_rate', 'IMU_hand_temperature', 'IMU_hand_acceleration16g_x', 'IMU_hand_acceleration16g_y', 'IMU_hand_acceleration16g_z', 'IMU_hand_acceleration6g_x', 'IMU_hand_acceleration6g_y', 'IMU_hand_acceleration6g_z', 'IMU_hand_gyroscope_x', 'IMU_hand_gyroscope_y', 'IMU_hand_gyroscope_z', 'IMU_hand_magnetometer_x', 'IMU_hand_magnetometer_y', 'IMU_hand_magnetometer_z', 'IMU_hand_orientation_1', 'IMU_hand_orientation_2', 'IMU_hand_orientation_3', 'IMU_hand_orientation_4', 'IMU_chest_temperature', 'IMU_chest_acceleration16g_x', 'IMU_chest_acceleration16g_y', 'IMU_chest_acceleration16g_z', 'IMU_chest_acceleration6g_x', 'IMU_chest_acceleration6g_y', 'IMU_chest_acceleration6g_z', 'IMU_chest_gyroscope_x', 'IMU_chest_gyroscope_y', 'IMU_chest_gyroscope_z', 'IMU_chest_magnetometer_x', 'IMU_chest_magnetometer_y', 'IMU_chest_magnetometer_z', 'IMU_chest_orientation_1', 'IMU_chest_orientation_2', 'IMU_chest_orientation_3', 'IMU_chest_orientation_4', 'IMU_ankle_temperature', 'IMU_ankle_acceleration16g_x', 'IMU_ankle_acceleration16g_y', 'IMU_ankle_acceleration16g_z', 'IMU_ankle_acceleration6g_x', 'IMU_ankle_acceleration6g_y', 'IMU_ankle_acceleration6g_z', 'IMU_ankle_gyroscope_x', 'IMU_ankle_gyroscope_y', 'IMU_ankle_gyroscope_z', 'IMU_ankle_magnetometer_x', 'IMU_ankle_magnetometer_y', 'IMU_ankle_magnetometer_z', 'IMU_ankle_orientation_1', 'IMU_ankle_orientation_2', 'IMU_ankle_orientation_3', 'IMU_ankle_orientation_4']\n",
      "54\n",
      "['timestamp', 'activityID', 'heart_rate', 'IMU_hand_temperature', 'IMU_hand_acceleration16g_x', 'IMU_hand_acceleration16g_y', 'IMU_hand_acceleration16g_z', 'IMU_hand_acceleration6g_x', 'IMU_hand_acceleration6g_y', 'IMU_hand_acceleration6g_z', 'IMU_hand_gyroscope_x', 'IMU_hand_gyroscope_y', 'IMU_hand_gyroscope_z', 'IMU_hand_magnetometer_x', 'IMU_hand_magnetometer_y', 'IMU_hand_magnetometer_z', 'IMU_hand_orientation_1', 'IMU_hand_orientation_2', 'IMU_hand_orientation_3', 'IMU_hand_orientation_4', 'IMU_chest_temperature', 'IMU_chest_acceleration16g_x', 'IMU_chest_acceleration16g_y', 'IMU_chest_acceleration16g_z', 'IMU_chest_acceleration6g_x', 'IMU_chest_acceleration6g_y', 'IMU_chest_acceleration6g_z', 'IMU_chest_gyroscope_x', 'IMU_chest_gyroscope_y', 'IMU_chest_gyroscope_z', 'IMU_chest_magnetometer_x', 'IMU_chest_magnetometer_y', 'IMU_chest_magnetometer_z', 'IMU_chest_orientation_1', 'IMU_chest_orientation_2', 'IMU_chest_orientation_3', 'IMU_chest_orientation_4', 'IMU_ankle_temperature', 'IMU_ankle_acceleration16g_x', 'IMU_ankle_acceleration16g_y', 'IMU_ankle_acceleration16g_z', 'IMU_ankle_acceleration6g_x', 'IMU_ankle_acceleration6g_y', 'IMU_ankle_acceleration6g_z', 'IMU_ankle_gyroscope_x', 'IMU_ankle_gyroscope_y', 'IMU_ankle_gyroscope_z', 'IMU_ankle_magnetometer_x', 'IMU_ankle_magnetometer_y', 'IMU_ankle_magnetometer_z', 'IMU_ankle_orientation_1', 'IMU_ankle_orientation_2', 'IMU_ankle_orientation_3', 'IMU_ankle_orientation_4']\n",
      "54\n"
     ]
    }
   ],
   "source": [
    "import pandas as pd\n",
    "test_df_list=[]\n",
    "subject_id_list=[1,5,6,8,9]\n",
    "for subject_id in subject_id_list:\n",
    "\n",
    "    dir_csv = f'/Users/haseung-won/Desktop/학교/연구실/time_series_data/PAMAP2_Dataset/Optional_csv/subject10{str(subject_id)}.csv'\n",
    "\n",
    "    # Define column names based on the provided structure\n",
    "    column_names = [\n",
    "        'timestamp',\n",
    "        'activityID',\n",
    "        'heart_rate',\n",
    "    ]\n",
    "\n",
    "    imu_sensors = [\n",
    "        'temperature',\n",
    "        'acceleration16g_x', 'acceleration16g_y', 'acceleration16g_z',\n",
    "        'acceleration6g_x', 'acceleration6g_y', 'acceleration6g_z',\n",
    "        'gyroscope_x', 'gyroscope_y', 'gyroscope_z',\n",
    "        'magnetometer_x', 'magnetometer_y', 'magnetometer_z',\n",
    "        'orientation_1', 'orientation_2', 'orientation_3','orientation_4'\n",
    "    ]\n",
    "\n",
    "    imu_parts = ['hand', 'chest', 'ankle']\n",
    "\n",
    "    # Add column names for IMU hand, chest, and ankle data\n",
    "    for part in imu_parts:\n",
    "        for sensor in imu_sensors:\n",
    "            column_names.append(f'IMU_{part}_{sensor}')\n",
    "    print(column_names)\n",
    "    print(len(column_names))\n",
    "    # Read the CSV file using pandas\n",
    "    df = pd.read_csv(dir_csv, names=column_names)\n",
    "    test_df_list.append(df)\n",
    "\n",
    "    # Now df contains the data from the CSV file with appropriate column names\n"
   ]
  },
  {
   "cell_type": "markdown",
   "metadata": {},
   "source": [
    "# 데이터 시각화\n"
   ]
  },
  {
   "cell_type": "code",
   "execution_count": 3,
   "metadata": {},
   "outputs": [],
   "source": [
    "# import pandas as pd\n",
    "# import numpy as np\n",
    "# import matplotlib.pyplot as plt\n",
    "# import seaborn as sns\n",
    "\n",
    "# # 예시용 데이터 생성 (실제 데이터를 읽어오는 부분으로 대체해야 합니다)\n",
    "# data = df_list[0]\n",
    "\n",
    "# # 시간에 대한 열을 Datetime 형식으로 변환합니다.\n",
    "# data['timestamp'] = pd.to_datetime(data['timestamp'], unit='s')\n",
    "\n",
    "# # 색상 맵 설정 (activityID에 맞게 색상 지정)\n",
    "# num_activities = data['activityID'].nunique()\n",
    "# cmap = plt.get_cmap('viridis', num_activities)\n",
    "\n",
    "# # IMU 데이터 컬럼명 리스트\n",
    "# imu_columns = data.columns[3:]\n",
    "\n",
    "# plt.figure(figsize=(12, 8))\n",
    "\n",
    "# for imu_column in imu_columns:\n",
    "#     plt.figure(figsize=(12, 6))\n",
    "    \n",
    "#     for activity_id, group in data.groupby('activityID'):\n",
    "#         plt.plot(group['timestamp'], group[imu_column], label=f'Activity {activity_id}', color=cmap(activity_id - 1))\n",
    "\n",
    "#     plt.xlabel('Time')\n",
    "#     plt.ylabel('Value')\n",
    "#     plt.title(f'{imu_column} Time Series Data with Different Colors for ActivityID')\n",
    "#     plt.legend(loc='upper right')\n",
    "#     plt.xticks(rotation=45)\n",
    "#     plt.tight_layout()\n",
    "#     plt.show()\n"
   ]
  },
  {
   "cell_type": "code",
   "execution_count": 4,
   "metadata": {},
   "outputs": [
    {
     "name": "stdout",
     "output_type": "stream",
     "text": [
      "25\n",
      "25\n",
      "Epoch 1/10\n",
      "5882/5882 [==============================] - 28s 4ms/step - loss: 0.0679 - accuracy: 0.6655\n",
      "Epoch 2/10\n",
      "5882/5882 [==============================] - 28s 5ms/step - loss: 0.0386 - accuracy: 0.8017\n",
      "Epoch 3/10\n",
      "5882/5882 [==============================] - 29s 5ms/step - loss: 0.0337 - accuracy: 0.8303\n",
      "Epoch 4/10\n",
      "5882/5882 [==============================] - 29s 5ms/step - loss: 0.0313 - accuracy: 0.8451\n",
      "Epoch 5/10\n",
      "5882/5882 [==============================] - 31s 5ms/step - loss: 0.0297 - accuracy: 0.8551\n",
      "Epoch 6/10\n",
      "5882/5882 [==============================] - 34s 6ms/step - loss: 0.0285 - accuracy: 0.8636\n",
      "Epoch 7/10\n",
      "5882/5882 [==============================] - 29s 5ms/step - loss: 0.0279 - accuracy: 0.8682\n",
      "Epoch 8/10\n",
      "5882/5882 [==============================] - 31s 5ms/step - loss: 0.0271 - accuracy: 0.8725\n",
      "Epoch 9/10\n",
      "5882/5882 [==============================] - 28s 5ms/step - loss: 0.0266 - accuracy: 0.8755\n",
      "Epoch 10/10\n",
      "5882/5882 [==============================] - 28s 5ms/step - loss: 0.0260 - accuracy: 0.8798\n"
     ]
    },
    {
     "data": {
      "text/plain": [
       "<keras.src.callbacks.History at 0x3258d49d0>"
      ]
     },
     "execution_count": 4,
     "metadata": {},
     "output_type": "execute_result"
    }
   ],
   "source": [
    "import pandas as pd\n",
    "import numpy as np\n",
    "from sklearn.model_selection import train_test_split\n",
    "from sklearn.preprocessing import StandardScaler\n",
    "from keras.models import Sequential\n",
    "from keras.layers import LSTM, Dense\n",
    "from keras.utils import to_categorical\n",
    "\n",
    "# 데이터 병합\n",
    "data = df_list[0]\n",
    "\n",
    "\n",
    "data = data.fillna(0)\n",
    "X = data.drop(columns=['activityID'])\n",
    "y = data['activityID']\n",
    "num_classes =25\n",
    "n_features = X.shape[1]  # Number of columns in your feature matrix X\n",
    "print(num_classes)\n",
    "# 시퀀스 길이 설정\n",
    "timesteps = 10\n",
    "\n",
    "X_train_lstm = []\n",
    "y_train_lstm = []\n",
    "\n",
    "for i in range(len(X) - timesteps + 1):\n",
    "    X_sequence = X.iloc[i:i + timesteps, :].values\n",
    "    y_label = y.iloc[i + timesteps - 1]  # Get a single label for the sequence\n",
    "    X_train_lstm.append(X_sequence)\n",
    "    y_train_lstm.append(y_label)\n",
    "\n",
    "\n",
    "X_train_lstm = np.array(X_train_lstm)\n",
    "y_train_lstm = np.array(y_train_lstm)\n",
    "print(num_classes)\n",
    "# Now you can proceed with multi-label encoding\n",
    "y_train_encoded = np.array([to_categorical(labels, num_classes=num_classes) for labels in y_train_lstm])\n",
    "y_train_encoded_flattened = y_train_encoded.reshape(-1, num_classes)\n",
    "\n",
    "# LSTM 모델 구축\n",
    "model = Sequential()\n",
    "model.add(LSTM(units=50, input_shape=(timesteps, n_features)))\n",
    "model.add(Dense(units=num_classes, activation='sigmoid'))  # Use 'sigmoid' for multi-label classification\n",
    "\n",
    "# 모델 컴파일\n",
    "model.compile(optimizer='adam', loss='binary_crossentropy', metrics=['accuracy'])  # Use 'binary_crossentropy' for multi-label\n",
    "\n",
    "# 모델 학습\n",
    "epochs = 10\n",
    "batch_size = 64\n",
    "model.fit(X_train_lstm, y_train_encoded_flattened, epochs=epochs, batch_size=batch_size)\n",
    "\n",
    "\n",
    "\n"
   ]
  },
  {
   "cell_type": "code",
   "execution_count": 5,
   "metadata": {},
   "outputs": [
    {
     "name": "stdout",
     "output_type": "stream",
     "text": [
      "Model saved successfully.\n"
     ]
    },
    {
     "name": "stderr",
     "output_type": "stream",
     "text": [
      "/Users/haseung-won/anaconda3/lib/python3.11/site-packages/keras/src/engine/training.py:3000: UserWarning: You are saving your model as an HDF5 file via `model.save()`. This file format is considered legacy. We recommend using instead the native Keras format, e.g. `model.save('my_model.keras')`.\n",
      "  saving_api.save_model(\n"
     ]
    }
   ],
   "source": [
    "model.save(\"model/Elstm_timeseries_model.h5\")\n",
    "print(\"Model saved successfully.\")"
   ]
  },
  {
   "cell_type": "code",
   "execution_count": 9,
   "metadata": {},
   "outputs": [
    {
     "name": "stdout",
     "output_type": "stream",
     "text": [
      "13969/13969 [==============================] - 18s 1ms/step - loss: 0.1807 - accuracy: 0.4495\n",
      "Evaluation Loss: 0.18074913322925568\n",
      "Evaluation Accuracy: 0.44947436451911926\n"
     ]
    }
   ],
   "source": [
    "# Assuming df_list[1] contains your evaluation data\n",
    "\n",
    "# Preprocessing on df_list[1]\n",
    "eval_data = df_list[1].fillna(0)\n",
    "X_eval = eval_data.drop(columns=['activityID'])\n",
    "y_eval = eval_data['activityID']\n",
    "\n",
    "# Prepare sequences and labels for evaluation\n",
    "X_eval_lstm = []\n",
    "y_eval_lstm = []\n",
    "\n",
    "for i in range(len(X_eval) - timesteps + 1):\n",
    "    X_sequence = X_eval.iloc[i:i + timesteps, :].values\n",
    "    y_label = y_eval.iloc[i + timesteps - 1]  # Get a single label for the sequence\n",
    "    X_eval_lstm.append(X_sequence)\n",
    "    y_eval_lstm.append(y_label)\n",
    "\n",
    "X_eval_lstm = np.array(X_eval_lstm)\n",
    "y_eval_lstm = np.array(y_eval_lstm)\n",
    "\n",
    "# One-hot encode the evaluation labels\n",
    "y_eval_encoded = np.array([to_categorical(label, num_classes=num_classes) for label in y_eval_lstm])\n",
    "y_eval_encoded_flattened = y_eval_encoded.reshape(-1, num_classes)\n",
    "\n",
    "# Evaluate the model on the evaluation data\n",
    "eval_loss, eval_accuracy = model.evaluate(X_eval_lstm, y_eval_encoded_flattened)\n",
    "\n",
    "print(\"Evaluation Loss:\", eval_loss)\n",
    "print(\"Evaluation Accuracy:\", eval_accuracy)\n"
   ]
  },
  {
   "cell_type": "code",
   "execution_count": 36,
   "metadata": {},
   "outputs": [
    {
     "name": "stdout",
     "output_type": "stream",
     "text": [
      "13969/13969 [==============================] - 20s 1ms/step\n"
     ]
    },
    {
     "ename": "KeyboardInterrupt",
     "evalue": "",
     "output_type": "error",
     "traceback": [
      "\u001b[0;31m---------------------------------------------------------------------------\u001b[0m",
      "\u001b[0;31mKeyboardInterrupt\u001b[0m                         Traceback (most recent call last)",
      "Cell \u001b[0;32mIn[36], line 16\u001b[0m\n\u001b[1;32m     14\u001b[0m \u001b[39m# Set x-axis ticks and labels\u001b[39;00m\n\u001b[1;32m     15\u001b[0m activity_ids \u001b[39m=\u001b[39m y_eval\u001b[39m.\u001b[39munique()  \u001b[39m# Get unique activityIDs\u001b[39;00m\n\u001b[0;32m---> 16\u001b[0m plt\u001b[39m.\u001b[39mxticks(\u001b[39mrange\u001b[39m(\u001b[39mlen\u001b[39m(y_eval_lstm)), [\u001b[39mf\u001b[39m\u001b[39m'\u001b[39m\u001b[39m{\u001b[39;00mactivity_id\u001b[39m}\u001b[39;00m\u001b[39m:\u001b[39m\u001b[39m{\u001b[39;00mi\u001b[39m}\u001b[39;00m\u001b[39m'\u001b[39m \u001b[39mfor\u001b[39;00m i, activity_id \u001b[39min\u001b[39;00m \u001b[39menumerate\u001b[39m(y_eval_lstm)], rotation\u001b[39m=\u001b[39m\u001b[39m90\u001b[39m)\n\u001b[1;32m     18\u001b[0m plt\u001b[39m.\u001b[39mxlabel(\u001b[39m'\u001b[39m\u001b[39mTime Step\u001b[39m\u001b[39m'\u001b[39m)\n\u001b[1;32m     19\u001b[0m plt\u001b[39m.\u001b[39mylabel(\u001b[39m'\u001b[39m\u001b[39mLabel\u001b[39m\u001b[39m'\u001b[39m)\n",
      "File \u001b[0;32m~/anaconda3/lib/python3.11/site-packages/matplotlib/pyplot.py:1886\u001b[0m, in \u001b[0;36mxticks\u001b[0;34m(ticks, labels, minor, **kwargs)\u001b[0m\n\u001b[1;32m   1883\u001b[0m         \u001b[39mraise\u001b[39;00m \u001b[39mTypeError\u001b[39;00m(\u001b[39m\"\u001b[39m\u001b[39mxticks(): Parameter \u001b[39m\u001b[39m'\u001b[39m\u001b[39mlabels\u001b[39m\u001b[39m'\u001b[39m\u001b[39m can\u001b[39m\u001b[39m'\u001b[39m\u001b[39mt be set \u001b[39m\u001b[39m\"\u001b[39m\n\u001b[1;32m   1884\u001b[0m                         \u001b[39m\"\u001b[39m\u001b[39mwithout setting \u001b[39m\u001b[39m'\u001b[39m\u001b[39mticks\u001b[39m\u001b[39m'\u001b[39m\u001b[39m\"\u001b[39m)\n\u001b[1;32m   1885\u001b[0m \u001b[39melse\u001b[39;00m:\n\u001b[0;32m-> 1886\u001b[0m     locs \u001b[39m=\u001b[39m ax\u001b[39m.\u001b[39mset_xticks(ticks, minor\u001b[39m=\u001b[39mminor)\n\u001b[1;32m   1888\u001b[0m \u001b[39mif\u001b[39;00m labels \u001b[39mis\u001b[39;00m \u001b[39mNone\u001b[39;00m:\n\u001b[1;32m   1889\u001b[0m     labels \u001b[39m=\u001b[39m ax\u001b[39m.\u001b[39mget_xticklabels(minor\u001b[39m=\u001b[39mminor)\n",
      "File \u001b[0;32m~/anaconda3/lib/python3.11/site-packages/matplotlib/axes/_base.py:74\u001b[0m, in \u001b[0;36m_axis_method_wrapper.__set_name__.<locals>.wrapper\u001b[0;34m(self, *args, **kwargs)\u001b[0m\n\u001b[1;32m     73\u001b[0m \u001b[39mdef\u001b[39;00m \u001b[39mwrapper\u001b[39m(\u001b[39mself\u001b[39m, \u001b[39m*\u001b[39margs, \u001b[39m*\u001b[39m\u001b[39m*\u001b[39mkwargs):\n\u001b[0;32m---> 74\u001b[0m     \u001b[39mreturn\u001b[39;00m get_method(\u001b[39mself\u001b[39m)(\u001b[39m*\u001b[39margs, \u001b[39m*\u001b[39m\u001b[39m*\u001b[39mkwargs)\n",
      "File \u001b[0;32m~/anaconda3/lib/python3.11/site-packages/matplotlib/axis.py:2074\u001b[0m, in \u001b[0;36mAxis.set_ticks\u001b[0;34m(self, ticks, labels, minor, **kwargs)\u001b[0m\n\u001b[1;32m   2071\u001b[0m \u001b[39mif\u001b[39;00m labels \u001b[39mis\u001b[39;00m \u001b[39mNone\u001b[39;00m \u001b[39mand\u001b[39;00m kwargs:\n\u001b[1;32m   2072\u001b[0m     \u001b[39mraise\u001b[39;00m \u001b[39mValueError\u001b[39;00m(\u001b[39m'\u001b[39m\u001b[39mlabels argument cannot be None when \u001b[39m\u001b[39m'\u001b[39m\n\u001b[1;32m   2073\u001b[0m                      \u001b[39m'\u001b[39m\u001b[39mkwargs are passed\u001b[39m\u001b[39m'\u001b[39m)\n\u001b[0;32m-> 2074\u001b[0m result \u001b[39m=\u001b[39m \u001b[39mself\u001b[39m\u001b[39m.\u001b[39m_set_tick_locations(ticks, minor\u001b[39m=\u001b[39mminor)\n\u001b[1;32m   2075\u001b[0m \u001b[39mif\u001b[39;00m labels \u001b[39mis\u001b[39;00m \u001b[39mnot\u001b[39;00m \u001b[39mNone\u001b[39;00m:\n\u001b[1;32m   2076\u001b[0m     \u001b[39mself\u001b[39m\u001b[39m.\u001b[39mset_ticklabels(labels, minor\u001b[39m=\u001b[39mminor, \u001b[39m*\u001b[39m\u001b[39m*\u001b[39mkwargs)\n",
      "File \u001b[0;32m~/anaconda3/lib/python3.11/site-packages/matplotlib/axis.py:2035\u001b[0m, in \u001b[0;36mAxis._set_tick_locations\u001b[0;34m(self, ticks, minor)\u001b[0m\n\u001b[1;32m   2033\u001b[0m \u001b[39melse\u001b[39;00m:\n\u001b[1;32m   2034\u001b[0m     \u001b[39mself\u001b[39m\u001b[39m.\u001b[39mset_major_locator(locator)\n\u001b[0;32m-> 2035\u001b[0m     \u001b[39mreturn\u001b[39;00m \u001b[39mself\u001b[39m\u001b[39m.\u001b[39mget_major_ticks(\u001b[39mlen\u001b[39m(ticks))\n",
      "File \u001b[0;32m~/anaconda3/lib/python3.11/site-packages/matplotlib/axis.py:1602\u001b[0m, in \u001b[0;36mAxis.get_major_ticks\u001b[0;34m(self, numticks)\u001b[0m\n\u001b[1;32m   1598\u001b[0m     numticks \u001b[39m=\u001b[39m \u001b[39mlen\u001b[39m(\u001b[39mself\u001b[39m\u001b[39m.\u001b[39mget_majorticklocs())\n\u001b[1;32m   1600\u001b[0m \u001b[39mwhile\u001b[39;00m \u001b[39mlen\u001b[39m(\u001b[39mself\u001b[39m\u001b[39m.\u001b[39mmajorTicks) \u001b[39m<\u001b[39m numticks:\n\u001b[1;32m   1601\u001b[0m     \u001b[39m# Update the new tick label properties from the old.\u001b[39;00m\n\u001b[0;32m-> 1602\u001b[0m     tick \u001b[39m=\u001b[39m \u001b[39mself\u001b[39m\u001b[39m.\u001b[39m_get_tick(major\u001b[39m=\u001b[39m\u001b[39mTrue\u001b[39;00m)\n\u001b[1;32m   1603\u001b[0m     \u001b[39mself\u001b[39m\u001b[39m.\u001b[39mmajorTicks\u001b[39m.\u001b[39mappend(tick)\n\u001b[1;32m   1604\u001b[0m     \u001b[39mself\u001b[39m\u001b[39m.\u001b[39m_copy_tick_props(\u001b[39mself\u001b[39m\u001b[39m.\u001b[39mmajorTicks[\u001b[39m0\u001b[39m], tick)\n",
      "File \u001b[0;32m~/anaconda3/lib/python3.11/site-packages/matplotlib/axis.py:1551\u001b[0m, in \u001b[0;36mAxis._get_tick\u001b[0;34m(self, major)\u001b[0m\n\u001b[1;32m   1547\u001b[0m     \u001b[39mraise\u001b[39;00m \u001b[39mNotImplementedError\u001b[39;00m(\n\u001b[1;32m   1548\u001b[0m         \u001b[39mf\u001b[39m\u001b[39m\"\u001b[39m\u001b[39mThe Axis subclass \u001b[39m\u001b[39m{\u001b[39;00m\u001b[39mself\u001b[39m\u001b[39m.\u001b[39m\u001b[39m__class__\u001b[39m\u001b[39m.\u001b[39m\u001b[39m__name__\u001b[39m\u001b[39m}\u001b[39;00m\u001b[39m must define \u001b[39m\u001b[39m\"\u001b[39m\n\u001b[1;32m   1549\u001b[0m         \u001b[39m\"\u001b[39m\u001b[39m_tick_class or reimplement _get_tick()\u001b[39m\u001b[39m\"\u001b[39m)\n\u001b[1;32m   1550\u001b[0m tick_kw \u001b[39m=\u001b[39m \u001b[39mself\u001b[39m\u001b[39m.\u001b[39m_major_tick_kw \u001b[39mif\u001b[39;00m major \u001b[39melse\u001b[39;00m \u001b[39mself\u001b[39m\u001b[39m.\u001b[39m_minor_tick_kw\n\u001b[0;32m-> 1551\u001b[0m \u001b[39mreturn\u001b[39;00m \u001b[39mself\u001b[39m\u001b[39m.\u001b[39m_tick_class(\u001b[39mself\u001b[39m\u001b[39m.\u001b[39maxes, \u001b[39m0\u001b[39m, major\u001b[39m=\u001b[39mmajor, \u001b[39m*\u001b[39m\u001b[39m*\u001b[39mtick_kw)\n",
      "File \u001b[0;32m~/anaconda3/lib/python3.11/site-packages/matplotlib/axis.py:417\u001b[0m, in \u001b[0;36mXTick.__init__\u001b[0;34m(self, *args, **kwargs)\u001b[0m\n\u001b[1;32m    416\u001b[0m \u001b[39mdef\u001b[39;00m \u001b[39m__init__\u001b[39m(\u001b[39mself\u001b[39m, \u001b[39m*\u001b[39margs, \u001b[39m*\u001b[39m\u001b[39m*\u001b[39mkwargs):\n\u001b[0;32m--> 417\u001b[0m     \u001b[39msuper\u001b[39m()\u001b[39m.\u001b[39m\u001b[39m__init__\u001b[39m(\u001b[39m*\u001b[39margs, \u001b[39m*\u001b[39m\u001b[39m*\u001b[39mkwargs)\n\u001b[1;32m    418\u001b[0m     \u001b[39m# x in data coords, y in axes coords\u001b[39;00m\n\u001b[1;32m    419\u001b[0m     ax \u001b[39m=\u001b[39m \u001b[39mself\u001b[39m\u001b[39m.\u001b[39maxes\n",
      "File \u001b[0;32m~/anaconda3/lib/python3.11/site-packages/matplotlib/axis.py:156\u001b[0m, in \u001b[0;36mTick.__init__\u001b[0;34m(self, axes, loc, size, width, color, tickdir, pad, labelsize, labelcolor, zorder, gridOn, tick1On, tick2On, label1On, label2On, major, labelrotation, grid_color, grid_linestyle, grid_linewidth, grid_alpha, **kwargs)\u001b[0m\n\u001b[1;32m    153\u001b[0m     grid_alpha \u001b[39m=\u001b[39m mpl\u001b[39m.\u001b[39mrcParams[\u001b[39m\"\u001b[39m\u001b[39mgrid.alpha\u001b[39m\u001b[39m\"\u001b[39m]\n\u001b[1;32m    154\u001b[0m grid_kw \u001b[39m=\u001b[39m {k[\u001b[39m5\u001b[39m:]: v \u001b[39mfor\u001b[39;00m k, v \u001b[39min\u001b[39;00m kwargs\u001b[39m.\u001b[39mitems()}\n\u001b[0;32m--> 156\u001b[0m \u001b[39mself\u001b[39m\u001b[39m.\u001b[39mtick1line \u001b[39m=\u001b[39m mlines\u001b[39m.\u001b[39mLine2D(\n\u001b[1;32m    157\u001b[0m     [], [],\n\u001b[1;32m    158\u001b[0m     color\u001b[39m=\u001b[39mcolor, linestyle\u001b[39m=\u001b[39m\u001b[39m\"\u001b[39m\u001b[39mnone\u001b[39m\u001b[39m\"\u001b[39m, zorder\u001b[39m=\u001b[39mzorder, visible\u001b[39m=\u001b[39mtick1On,\n\u001b[1;32m    159\u001b[0m     markeredgecolor\u001b[39m=\u001b[39mcolor, markersize\u001b[39m=\u001b[39msize, markeredgewidth\u001b[39m=\u001b[39mwidth,\n\u001b[1;32m    160\u001b[0m )\n\u001b[1;32m    161\u001b[0m \u001b[39mself\u001b[39m\u001b[39m.\u001b[39mtick2line \u001b[39m=\u001b[39m mlines\u001b[39m.\u001b[39mLine2D(\n\u001b[1;32m    162\u001b[0m     [], [],\n\u001b[1;32m    163\u001b[0m     color\u001b[39m=\u001b[39mcolor, linestyle\u001b[39m=\u001b[39m\u001b[39m\"\u001b[39m\u001b[39mnone\u001b[39m\u001b[39m\"\u001b[39m, zorder\u001b[39m=\u001b[39mzorder, visible\u001b[39m=\u001b[39mtick2On,\n\u001b[1;32m    164\u001b[0m     markeredgecolor\u001b[39m=\u001b[39mcolor, markersize\u001b[39m=\u001b[39msize, markeredgewidth\u001b[39m=\u001b[39mwidth,\n\u001b[1;32m    165\u001b[0m )\n\u001b[1;32m    166\u001b[0m \u001b[39mself\u001b[39m\u001b[39m.\u001b[39mgridline \u001b[39m=\u001b[39m mlines\u001b[39m.\u001b[39mLine2D(\n\u001b[1;32m    167\u001b[0m     [], [],\n\u001b[1;32m    168\u001b[0m     color\u001b[39m=\u001b[39mgrid_color, alpha\u001b[39m=\u001b[39mgrid_alpha, visible\u001b[39m=\u001b[39mgridOn,\n\u001b[1;32m    169\u001b[0m     linestyle\u001b[39m=\u001b[39mgrid_linestyle, linewidth\u001b[39m=\u001b[39mgrid_linewidth, marker\u001b[39m=\u001b[39m\u001b[39m\"\u001b[39m\u001b[39m\"\u001b[39m,\n\u001b[1;32m    170\u001b[0m     \u001b[39m*\u001b[39m\u001b[39m*\u001b[39mgrid_kw,\n\u001b[1;32m    171\u001b[0m )\n",
      "File \u001b[0;32m~/anaconda3/lib/python3.11/site-packages/matplotlib/_api/deprecation.py:454\u001b[0m, in \u001b[0;36mmake_keyword_only.<locals>.wrapper\u001b[0;34m(*args, **kwargs)\u001b[0m\n\u001b[1;32m    448\u001b[0m \u001b[39mif\u001b[39;00m \u001b[39mlen\u001b[39m(args) \u001b[39m>\u001b[39m name_idx:\n\u001b[1;32m    449\u001b[0m     warn_deprecated(\n\u001b[1;32m    450\u001b[0m         since, message\u001b[39m=\u001b[39m\u001b[39m\"\u001b[39m\u001b[39mPassing the \u001b[39m\u001b[39m%(name)s\u001b[39;00m\u001b[39m \u001b[39m\u001b[39m%(obj_type)s\u001b[39;00m\u001b[39m \u001b[39m\u001b[39m\"\u001b[39m\n\u001b[1;32m    451\u001b[0m         \u001b[39m\"\u001b[39m\u001b[39mpositionally is deprecated since Matplotlib \u001b[39m\u001b[39m%(since)s\u001b[39;00m\u001b[39m; the \u001b[39m\u001b[39m\"\u001b[39m\n\u001b[1;32m    452\u001b[0m         \u001b[39m\"\u001b[39m\u001b[39mparameter will become keyword-only \u001b[39m\u001b[39m%(removal)s\u001b[39;00m\u001b[39m.\u001b[39m\u001b[39m\"\u001b[39m,\n\u001b[1;32m    453\u001b[0m         name\u001b[39m=\u001b[39mname, obj_type\u001b[39m=\u001b[39m\u001b[39mf\u001b[39m\u001b[39m\"\u001b[39m\u001b[39mparameter of \u001b[39m\u001b[39m{\u001b[39;00mfunc\u001b[39m.\u001b[39m\u001b[39m__name__\u001b[39m\u001b[39m}\u001b[39;00m\u001b[39m()\u001b[39m\u001b[39m\"\u001b[39m)\n\u001b[0;32m--> 454\u001b[0m \u001b[39mreturn\u001b[39;00m func(\u001b[39m*\u001b[39margs, \u001b[39m*\u001b[39m\u001b[39m*\u001b[39mkwargs)\n",
      "File \u001b[0;32m~/anaconda3/lib/python3.11/site-packages/matplotlib/lines.py:393\u001b[0m, in \u001b[0;36mLine2D.__init__\u001b[0;34m(self, xdata, ydata, linewidth, linestyle, color, gapcolor, marker, markersize, markeredgewidth, markeredgecolor, markerfacecolor, markerfacecoloralt, fillstyle, antialiased, dash_capstyle, solid_capstyle, dash_joinstyle, solid_joinstyle, pickradius, drawstyle, markevery, **kwargs)\u001b[0m\n\u001b[1;32m    389\u001b[0m \u001b[39mself\u001b[39m\u001b[39m.\u001b[39mset_markeredgewidth(markeredgewidth)\n\u001b[1;32m    391\u001b[0m \u001b[39m# update kwargs before updating data to give the caller a\u001b[39;00m\n\u001b[1;32m    392\u001b[0m \u001b[39m# chance to init axes (and hence unit support)\u001b[39;00m\n\u001b[0;32m--> 393\u001b[0m \u001b[39mself\u001b[39m\u001b[39m.\u001b[39m_internal_update(kwargs)\n\u001b[1;32m    394\u001b[0m \u001b[39mself\u001b[39m\u001b[39m.\u001b[39m_pickradius \u001b[39m=\u001b[39m pickradius\n\u001b[1;32m    395\u001b[0m \u001b[39mself\u001b[39m\u001b[39m.\u001b[39mind_offset \u001b[39m=\u001b[39m \u001b[39m0\u001b[39m\n",
      "File \u001b[0;32m~/anaconda3/lib/python3.11/site-packages/matplotlib/artist.py:1223\u001b[0m, in \u001b[0;36mArtist._internal_update\u001b[0;34m(self, kwargs)\u001b[0m\n\u001b[1;32m   1216\u001b[0m \u001b[39mdef\u001b[39;00m \u001b[39m_internal_update\u001b[39m(\u001b[39mself\u001b[39m, kwargs):\n\u001b[1;32m   1217\u001b[0m \u001b[39m    \u001b[39m\u001b[39m\"\"\"\u001b[39;00m\n\u001b[1;32m   1218\u001b[0m \u001b[39m    Update artist properties without prenormalizing them, but generating\u001b[39;00m\n\u001b[1;32m   1219\u001b[0m \u001b[39m    errors as if calling `set`.\u001b[39;00m\n\u001b[1;32m   1220\u001b[0m \n\u001b[1;32m   1221\u001b[0m \u001b[39m    The lack of prenormalization is to maintain backcompatibility.\u001b[39;00m\n\u001b[1;32m   1222\u001b[0m \u001b[39m    \"\"\"\u001b[39;00m\n\u001b[0;32m-> 1223\u001b[0m     \u001b[39mreturn\u001b[39;00m \u001b[39mself\u001b[39m\u001b[39m.\u001b[39m_update_props(\n\u001b[1;32m   1224\u001b[0m         kwargs, \u001b[39m\"\u001b[39m\u001b[39m{cls.__name__}\u001b[39;00m\u001b[39m.set() got an unexpected keyword argument \u001b[39m\u001b[39m\"\u001b[39m\n\u001b[1;32m   1225\u001b[0m         \u001b[39m\"\u001b[39m\u001b[39m{prop_name!r}\u001b[39;00m\u001b[39m\"\u001b[39m)\n",
      "File \u001b[0;32m~/anaconda3/lib/python3.11/site-packages/matplotlib/artist.py:1199\u001b[0m, in \u001b[0;36mArtist._update_props\u001b[0;34m(self, props, errfmt)\u001b[0m\n\u001b[1;32m   1196\u001b[0m             \u001b[39mif\u001b[39;00m \u001b[39mnot\u001b[39;00m \u001b[39mcallable\u001b[39m(func):\n\u001b[1;32m   1197\u001b[0m                 \u001b[39mraise\u001b[39;00m \u001b[39mAttributeError\u001b[39;00m(\n\u001b[1;32m   1198\u001b[0m                     errfmt\u001b[39m.\u001b[39mformat(\u001b[39mcls\u001b[39m\u001b[39m=\u001b[39m\u001b[39mtype\u001b[39m(\u001b[39mself\u001b[39m), prop_name\u001b[39m=\u001b[39mk))\n\u001b[0;32m-> 1199\u001b[0m             ret\u001b[39m.\u001b[39mappend(func(v))\n\u001b[1;32m   1200\u001b[0m \u001b[39mif\u001b[39;00m ret:\n\u001b[1;32m   1201\u001b[0m     \u001b[39mself\u001b[39m\u001b[39m.\u001b[39mpchanged()\n",
      "File \u001b[0;32m~/anaconda3/lib/python3.11/site-packages/matplotlib/artist.py:1129\u001b[0m, in \u001b[0;36mArtist.set_zorder\u001b[0;34m(self, level)\u001b[0m\n\u001b[1;32m   1127\u001b[0m     level \u001b[39m=\u001b[39m \u001b[39mself\u001b[39m\u001b[39m.\u001b[39m\u001b[39m__class__\u001b[39m\u001b[39m.\u001b[39mzorder\n\u001b[1;32m   1128\u001b[0m \u001b[39mself\u001b[39m\u001b[39m.\u001b[39mzorder \u001b[39m=\u001b[39m level\n\u001b[0;32m-> 1129\u001b[0m \u001b[39mself\u001b[39m\u001b[39m.\u001b[39mpchanged()\n\u001b[1;32m   1130\u001b[0m \u001b[39mself\u001b[39m\u001b[39m.\u001b[39mstale \u001b[39m=\u001b[39m \u001b[39mTrue\u001b[39;00m\n",
      "File \u001b[0;32m~/anaconda3/lib/python3.11/site-packages/matplotlib/artist.py:428\u001b[0m, in \u001b[0;36mArtist.pchanged\u001b[0;34m(self)\u001b[0m\n\u001b[1;32m    417\u001b[0m \u001b[39mdef\u001b[39;00m \u001b[39mpchanged\u001b[39m(\u001b[39mself\u001b[39m):\n\u001b[1;32m    418\u001b[0m \u001b[39m    \u001b[39m\u001b[39m\"\"\"\u001b[39;00m\n\u001b[1;32m    419\u001b[0m \u001b[39m    Call all of the registered callbacks.\u001b[39;00m\n\u001b[1;32m    420\u001b[0m \n\u001b[0;32m   (...)\u001b[0m\n\u001b[1;32m    426\u001b[0m \u001b[39m    remove_callback\u001b[39;00m\n\u001b[1;32m    427\u001b[0m \u001b[39m    \"\"\"\u001b[39;00m\n\u001b[0;32m--> 428\u001b[0m     \u001b[39mself\u001b[39m\u001b[39m.\u001b[39m_callbacks\u001b[39m.\u001b[39mprocess(\u001b[39m\"\u001b[39m\u001b[39mpchanged\u001b[39m\u001b[39m\"\u001b[39m)\n",
      "File \u001b[0;32m~/anaconda3/lib/python3.11/site-packages/matplotlib/cbook/__init__.py:300\u001b[0m, in \u001b[0;36mCallbackRegistry.process\u001b[0;34m(self, s, *args, **kwargs)\u001b[0m\n\u001b[1;32m    298\u001b[0m \u001b[39mif\u001b[39;00m \u001b[39mself\u001b[39m\u001b[39m.\u001b[39m_signals \u001b[39mis\u001b[39;00m \u001b[39mnot\u001b[39;00m \u001b[39mNone\u001b[39;00m:\n\u001b[1;32m    299\u001b[0m     _api\u001b[39m.\u001b[39mcheck_in_list(\u001b[39mself\u001b[39m\u001b[39m.\u001b[39m_signals, signal\u001b[39m=\u001b[39ms)\n\u001b[0;32m--> 300\u001b[0m \u001b[39mfor\u001b[39;00m cid, ref \u001b[39min\u001b[39;00m \u001b[39mlist\u001b[39m(\u001b[39mself\u001b[39m\u001b[39m.\u001b[39mcallbacks\u001b[39m.\u001b[39mget(s, {})\u001b[39m.\u001b[39mitems()):\n\u001b[1;32m    301\u001b[0m     func \u001b[39m=\u001b[39m ref()\n\u001b[1;32m    302\u001b[0m     \u001b[39mif\u001b[39;00m func \u001b[39mis\u001b[39;00m \u001b[39mnot\u001b[39;00m \u001b[39mNone\u001b[39;00m:\n",
      "\u001b[0;31mKeyboardInterrupt\u001b[0m: "
     ]
    }
   ],
   "source": [
    "import matplotlib.pyplot as plt\n",
    "\n",
    "# Predict labels using the model\n",
    "y_eval_pred_encoded_flattened = model.predict(X_eval_lstm)\n",
    "\n",
    "# Inverse one-hot encode to get predicted labels\n",
    "y_eval_pred_lstm = np.argmax(y_eval_pred_encoded_flattened, axis=1)\n",
    "\n",
    "# Plot the actual and predicted labels over time\n",
    "plt.figure(figsize=(12, 6))\n",
    "plt.plot(y_eval_lstm, label='Actual Labels', marker='o')\n",
    "plt.plot(y_eval_pred_lstm, label='Predicted Labels', marker='x')\n",
    "\n",
    "# Get unique activityIDs\n",
    "activity_ids = y_eval.unique()\n",
    "\n",
    "# Find and annotate the ranges of each activityID\n",
    "for activity_id in activity_ids:\n",
    "    indices = np.where(y_eval_lstm == activity_id)[0]\n",
    "    if indices.any():\n",
    "        plt.annotate(f'Activity {activity_id}', \n",
    "                     xy=(indices[0], 0), \n",
    "                     xytext=(indices[0], -0.1), \n",
    "                     textcoords='offset points',\n",
    "                     arrowprops=dict(arrowstyle=\"->\", connectionstyle=\"arc3,rad=.2\"),\n",
    "                     fontsize=10)\n",
    "\n",
    "plt.xlabel('Time Step')\n",
    "plt.ylabel('Label')\n",
    "plt.title('Actual vs. Predicted Labels')\n",
    "plt.legend()\n",
    "plt.show()\n"
   ]
  },
  {
   "cell_type": "code",
   "execution_count": null,
   "metadata": {},
   "outputs": [],
   "source": []
  }
 ],
 "metadata": {
  "kernelspec": {
   "display_name": "base",
   "language": "python",
   "name": "python3"
  },
  "language_info": {
   "codemirror_mode": {
    "name": "ipython",
    "version": 3
   },
   "file_extension": ".py",
   "mimetype": "text/x-python",
   "name": "python",
   "nbconvert_exporter": "python",
   "pygments_lexer": "ipython3",
   "version": "3.11.4"
  },
  "orig_nbformat": 4
 },
 "nbformat": 4,
 "nbformat_minor": 2
}
